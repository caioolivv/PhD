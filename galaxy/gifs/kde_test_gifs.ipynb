{
 "cells": [
  {
   "cell_type": "code",
   "execution_count": 1,
   "metadata": {},
   "outputs": [
    {
     "name": "stderr",
     "output_type": "stream",
     "text": [
      "\n",
      "WARNING: version mismatch between CFITSIO header (v40100) and linked library (v40000).\n",
      "\n",
      "\n",
      "WARNING: version mismatch between CFITSIO header (v40100) and linked library (v40000).\n",
      "\n",
      "\n",
      "WARNING: version mismatch between CFITSIO header (v40100) and linked library (v40000).\n",
      "\n"
     ]
    }
   ],
   "source": [
    "import os\n",
    "import sys\n",
    "import gi\n",
    "\n",
    "gi.require_version('NumCosmo', '1.0')\n",
    "gi.require_version('NumCosmoMath', '1.0')\n",
    "from gi.repository import GObject\n",
    "from gi.repository import NumCosmo as Nc\n",
    "from gi.repository import NumCosmoMath as Ncm\n",
    "\n",
    "os.environ['CLMM_MODELING_BACKEND'] = 'nc'\n",
    "\n",
    "__name__ = \"NcContext\"\n",
    "\n",
    "Ncm.cfg_init ()\n",
    "Ncm.cfg_set_log_handler (lambda msg: sys.stdout.write (msg) and sys.stdout.flush ())\n",
    "\n",
    "import clmm\n",
    "import numpy as np\n",
    "from numpy import random\n",
    "from clmm import Cosmology\n",
    "from clmm.support import mock_data as mock\n",
    "from chainconsumer import ChainConsumer\n",
    "import matplotlib.pyplot as plt\n",
    "\n",
    "plt.rcParams['text.latex.preamble'] = [r'\\usepackage{pxfonts, mathpazo}']\n",
    "plt.rc('text', usetex=True)"
   ]
  },
  {
   "cell_type": "code",
   "execution_count": 2,
   "metadata": {},
   "outputs": [],
   "source": [
    "# np.random.seed(0)\n",
    "# Define cosmological parameters\n",
    "cosmo = Cosmology(H0 = 70.0, Omega_dm0 = 0.27 - 0.045, Omega_b0 = 0.045, Omega_k0 = 0.0)\n",
    "\n",
    "cluster_m     = 1.e15 # Cluster mass\n",
    "cluster_z     = 0.4   # Cluster redshift\n",
    "concentration = 4     # Concentrion parameter NFW profile\n",
    "ngals         = 10000 # Number of galaxies\n",
    "Delta         = 200   # Overdensity parameter definition NFW profile\n",
    "cluster_ra    = 0.0   # Cluster right ascension\n",
    "cluster_dec   = 0.0   # Cluster declination\n",
    "sigma_g       = 5e-2  # True ellipticity standard variation\n",
    "sigma_z       = 5e-2\n",
    "ndata         = 1000\n",
    "\n",
    "r_lim  = [0.60, 3.2]\n",
    "z_lim  = [0.41, 4.1]\n",
    "zp_lim = [0.40, 4.1]\n",
    "\n",
    "# Create Galaxy WL Likelihood object\n",
    "# gsdp  = Nc.GalaxySDPositionFlat ()\n",
    "gsdp  = Nc.GalaxySDPositionSRDY1 ()\n",
    "gsdzp = Nc.GalaxySDZProxyGauss ()\n",
    "gsds  = Nc.GalaxySDShapeGauss ()\n",
    "\n",
    "gsdp.set_z_lim (Ncm.Vector.new_array (z_lim))\n",
    "gsdp.set_r_lim (Ncm.Vector.new_array (z_lim))\n",
    "gsdzp.set_z_lim (Ncm.Vector.new_array (zp_lim))\n",
    "gsdzp.set_sigma (sigma_z)\n",
    "gsds.set_sigma (sigma_g)\n",
    "\n",
    "gwll = Nc.GalaxyWLLikelihood (s_dist=gsds, zp_dist=gsdzp, rz_dist=gsdp)\n",
    "gwll.set_ndata (ndata)\n",
    "\n",
    "moo = clmm.Modeling (massdef='mean', delta_mdef=200, halo_profile_model='nfw')\n",
    "moo.set_cosmo(cosmo)\n",
    "mset = moo.get_mset ()\n",
    "\n",
    "data = mock.generate_galaxy_catalog (cluster_m, cluster_z, concentration, cosmo, \"chang13\", zsrc_min = cluster_z + 0.1, shapenoise=sigma_g, ngals=ngals, cluster_ra=cluster_ra, cluster_dec=cluster_dec, photoz_sigma_unscaled=sigma_z)\n",
    "gc   = clmm.GalaxyCluster(\"CL_noisy_z\", cluster_ra, cluster_dec, cluster_z, data)\n",
    "gc.compute_tangential_and_cross_components(geometry=\"flat\")\n",
    "\n",
    "radius = clmm.convert_units (gc.galcat['theta'], \"radians\", \"Mpc\", redshift = cluster_z, cosmo = cosmo)\n",
    "r_mean = np.mean (radius)\n",
    "g_mean = np.mean (gc.galcat['et'])\n",
    "z_mean = np.mean (gc.galcat['z'])\n",
    "\n",
    "from matplotlib.animation import FuncAnimation\n",
    "\n",
    "cosmo = Nc.HICosmo.new_from_name (Nc.HICosmo, \"NcHICosmoLCDM\")\n",
    "dp = Nc.HaloDensityProfileNFW.new (Nc.HaloDensityProfileMassDef.CRITICAL, 200)\n",
    "dist = Nc.Distance.new (4.0)\n",
    "dist.prepare (cosmo)\n",
    "smd = Nc.WLSurfaceMassDensity.new (dist)\n",
    "gwll.prepare (cosmo, dp, smd, 0.4)\n",
    "\n",
    "kde = gwll.peek_kde ()\n",
    "\n",
    "r_x = np.linspace (r_lim[0], r_lim[1], 1000)\n",
    "z_x = np.linspace (z_lim[0], z_lim[1], 1000)\n",
    "g_x = np.linspace (min (gc.galcat['et']), max (gc.galcat['et']), 1000)"
   ]
  },
  {
   "cell_type": "code",
   "execution_count": 3,
   "metadata": {},
   "outputs": [
    {
     "data": {
      "image/png": "[encoded data removed]",
      "text/plain": [
       "<Figure size 640x480 with 1 Axes>"
      ]
     },
     "metadata": {},
     "output_type": "display_data"
    }
   ],
   "source": [
    "fig = plt.figure ()\n",
    "axis = plt.axes ()\n",
    "line, = axis.plot([], [], lw = 3)\n",
    "z_text = axis.text (0.02, 0.95, '', transform=axis.transAxes)\n",
    "g_text = axis.text (0.02, 0.90, '', transform=axis.transAxes)\n",
    "\n",
    "def init(): \n",
    "    line.set_data([], [])\n",
    "    z_text.set_text ('')\n",
    "    g_text.set_text ('')\n",
    "    return line,\n",
    "\n",
    "def animate(z):\n",
    "    p_r = []\n",
    "    for i in range (len(r_x)):\n",
    "        x = Ncm.Vector.new_array ([r_x[i], z, g_mean])\n",
    "        p_r.append (kde.eval (x))\n",
    "    line.set_data(r_x, p_r)\n",
    "    z_text.set_text (f'z = {z}')\n",
    "    g_text.set_text (f'g = {g_mean}')\n",
    "    axis.relim (); axis.autoscale_view ()\n",
    "    return line, z_text, g_text\n",
    "\n",
    "anim = FuncAnimation(fig, animate, init_func = init, frames = z_x, interval = 20, blit = False)\n",
    "anim.save('r_kde_(varying_z)(1000).mp4', writer = 'ffmpeg', fps = 30)"
   ]
  },
  {
   "cell_type": "code",
   "execution_count": 4,
   "metadata": {},
   "outputs": [
    {
     "data": {
      "image/png": "[encoded data removed]",
      "text/plain": [
       "<Figure size 640x480 with 1 Axes>"
      ]
     },
     "metadata": {},
     "output_type": "display_data"
    }
   ],
   "source": [
    "fig = plt.figure ()\n",
    "axis = plt.axes ()\n",
    "line, = axis.plot([], [], lw = 3)\n",
    "z_text = axis.text (0.02, 0.95, '', transform=axis.transAxes)\n",
    "g_text = axis.text (0.02, 0.90, '', transform=axis.transAxes)\n",
    "\n",
    "def init(): \n",
    "    line.set_data([], [])\n",
    "    z_text.set_text ('')\n",
    "    g_text.set_text ('')\n",
    "    return line,\n",
    "\n",
    "def animate(g):\n",
    "    p_r = []\n",
    "    for i in range (len(r_x)):\n",
    "        x = Ncm.Vector.new_array ([r_x[i], z_mean, g])\n",
    "        p_r.append (kde.eval (x))\n",
    "    line.set_data(r_x, p_r)\n",
    "    z_text.set_text (f'z = {z_mean}')\n",
    "    g_text.set_text (f'g = {g}')\n",
    "    axis.relim (); axis.autoscale_view ()\n",
    "    return line, z_text, g_text\n",
    "\n",
    "anim = FuncAnimation(fig, animate, init_func = init, frames = g_x, interval = 20, blit = False)\n",
    "anim.save('r_kde_(varying_g)(1000).mp4', writer = 'ffmpeg', fps = 30)"
   ]
  },
  {
   "cell_type": "code",
   "execution_count": 5,
   "metadata": {},
   "outputs": [],
   "source": [
    "fig = plt.figure ()\n",
    "axis = plt.axes ()\n",
    "line, = axis.plot([], [], lw = 3)\n",
    "r_text = axis.text (0.02, 0.95, '', transform=axis.transAxes)\n",
    "g_text = axis.text (0.02, 0.90, '', transform=axis.transAxes)\n",
    "\n",
    "def init(): \n",
    "    line.set_data([], [])\n",
    "    r_text.set_text ('')\n",
    "    g_text.set_text ('')\n",
    "    return line,\n",
    "\n",
    "def animate(r):\n",
    "    p_z = []\n",
    "    for i in range (len(z_x)):\n",
    "        x = Ncm.Vector.new_array ([r, z_x[i], g_mean])\n",
    "        p_z.append (kde.eval (x))\n",
    "    line.set_data(z_x, p_z)\n",
    "    r_text.set_text (f'r = {r}')\n",
    "    g_text.set_text (f'g = {g_mean}')\n",
    "    axis.relim (); axis.autoscale_view ()\n",
    "    return line, r_text, g_text\n",
    "\n",
    "anim = FuncAnimation(fig, animate, init_func = init, frames = r_x, interval = 20, blit = False)\n",
    "anim.save('z_kde_(varying_r)(1000).mp4', writer = 'ffmpeg', fps = 30)"
   ]
  },
  {
   "cell_type": "code",
   "execution_count": null,
   "metadata": {},
   "outputs": [
    {
     "data": {
      "image/png": "[encoded data removed]",
      "text/plain": [
       "<Figure size 640x480 with 1 Axes>"
      ]
     },
     "metadata": {},
     "output_type": "display_data"
    }
   ],
   "source": [
    "fig = plt.figure ()\n",
    "axis = plt.axes ()\n",
    "line, = axis.plot([], [], lw = 3)\n",
    "r_text = axis.text (0.02, 0.95, '', transform=axis.transAxes)\n",
    "g_text = axis.text (0.02, 0.90, '', transform=axis.transAxes)\n",
    "\n",
    "def init(): \n",
    "    line.set_data([], [])\n",
    "    r_text.set_text ('')\n",
    "    g_text.set_text ('')\n",
    "    return line,\n",
    "\n",
    "def animate(g):\n",
    "    p_z = []\n",
    "    for i in range (len(z_x)):\n",
    "        x = Ncm.Vector.new_array ([r_mean, z_x[i], g])\n",
    "        p_z.append (kde.eval (x))\n",
    "    line.set_data(z_x, p_z)\n",
    "    r_text.set_text (f'r = {r_mean}')\n",
    "    g_text.set_text (f'g = {g}')\n",
    "    axis.relim (); axis.autoscale_view ()\n",
    "    return line, r_text, g_text\n",
    "\n",
    "anim = FuncAnimation(fig, animate, init_func = init, frames = g_x, interval = 20, blit = False)\n",
    "anim.save('z_kde_(varying_g)(1000).mp4', writer = 'ffmpeg', fps = 30)"
   ]
  },
  {
   "cell_type": "code",
   "execution_count": null,
   "metadata": {},
   "outputs": [
    {
     "data": {
      "image/png": "[encoded data removed]",
      "text/plain": [
       "<Figure size 640x480 with 1 Axes>"
      ]
     },
     "metadata": {},
     "output_type": "display_data"
    }
   ],
   "source": [
    "fig = plt.figure ()\n",
    "axis = plt.axes ()\n",
    "line, = axis.plot([], [], lw = 3)\n",
    "r_text = axis.text (0.02, 0.95, '', transform=axis.transAxes)\n",
    "z_text = axis.text (0.02, 0.90, '', transform=axis.transAxes)\n",
    "\n",
    "def init(): \n",
    "    line.set_data([], [])\n",
    "    r_text.set_text ('')\n",
    "    z_text.set_text ('')\n",
    "    return line,\n",
    "\n",
    "def animate(r):\n",
    "    p_g = []\n",
    "    for i in range (len(g_x)):\n",
    "        x = Ncm.Vector.new_array ([r, z_mean, g_x[i]])\n",
    "        p_g.append (kde.eval (x))\n",
    "    line.set_data(g_x, p_g)\n",
    "    r_text.set_text (f'r = {r}')\n",
    "    z_text.set_text (f'z = {z_mean}')\n",
    "    axis.relim (); axis.autoscale_view ()\n",
    "    return line, r_text, z_text\n",
    "\n",
    "anim = FuncAnimation(fig, animate, init_func = init, frames = r_x, interval = 20, blit = False)\n",
    "anim.save('g_kde_(varying_r)(1000).mp4', writer = 'ffmpeg', fps = 30)"
   ]
  },
  {
   "cell_type": "code",
   "execution_count": null,
   "metadata": {},
   "outputs": [
    {
     "data": {
      "image/png": "[encoded data removed]",
      "text/plain": [
       "<Figure size 640x480 with 1 Axes>"
      ]
     },
     "metadata": {},
     "output_type": "display_data"
    }
   ],
   "source": [
    "fig = plt.figure ()\n",
    "axis = plt.axes ()\n",
    "line, = axis.plot([], [], lw = 3)\n",
    "r_text = axis.text (0.02, 0.95, '', transform=axis.transAxes)\n",
    "z_text = axis.text (0.02, 0.90, '', transform=axis.transAxes)\n",
    "\n",
    "def init(): \n",
    "    line.set_data([], [])\n",
    "    r_text.set_text ('')\n",
    "    z_text.set_text ('')\n",
    "    return line,\n",
    "\n",
    "def animate(z):\n",
    "    p_g = []\n",
    "    for i in range (len(g_x)):\n",
    "        x = Ncm.Vector.new_array ([r_mean, z, g_x[i]])\n",
    "        p_g.append (kde.eval (x))\n",
    "    line.set_data(g_x, p_g)\n",
    "    r_text.set_text (f'r = {r_mean}')\n",
    "    z_text.set_text (f'z = {z}')\n",
    "    axis.relim (); axis.autoscale_view ()\n",
    "    return line, r_text, z_text\n",
    "\n",
    "anim = FuncAnimation(fig, animate, init_func = init, frames = z_x, interval = 20, blit = False)\n",
    "anim.save('g_kde_(varying_z)(1000).mp4', writer = 'ffmpeg', fps = 30)"
   ]
  },
  {
   "cell_type": "code",
   "execution_count": null,
   "metadata": {},
   "outputs": [],
   "source": []
  }
 ],
 "metadata": {
  "kernelspec": {
   "display_name": "Python 3",
   "language": "python",
   "name": "python3"
  },
  "language_info": {
   "codemirror_mode": {
    "name": "ipython",
    "version": 3
   },
   "file_extension": ".py",
   "mimetype": "text/x-python",
   "name": "python",
   "nbconvert_exporter": "python",
   "pygments_lexer": "ipython3",
   "version": "3.11.5"
  },
  "orig_nbformat": 4
 },
 "nbformat": 4,
 "nbformat_minor": 2
}
