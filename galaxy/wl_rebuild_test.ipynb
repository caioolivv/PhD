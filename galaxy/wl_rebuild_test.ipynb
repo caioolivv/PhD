{
 "cells": [
  {
   "cell_type": "code",
   "execution_count": null,
   "metadata": {},
   "outputs": [],
   "source": [
    "import os\n",
    "import sys\n",
    "import gi\n",
    "\n",
    "from numcosmo_py import Nc\n",
    "from numcosmo_py import Ncm\n",
    "\n",
    "__name__ = \"NcContext\"\n",
    "\n",
    "Ncm.cfg_init ()\n",
    "Ncm.cfg_set_log_handler (lambda msg: sys.stdout.write (msg) and sys.stdout.flush ())\n",
    "\n",
    "import numpy as np\n",
    "from numpy import random\n",
    "from chainconsumer import ChainConsumer\n",
    "import matplotlib.pyplot as plt\n",
    "\n",
    "# plt.rcParams['text.latex.preamble'] = [r'\\usepackage{pxfonts, mathpazo}']\n",
    "plt.rc('text', usetex=True)"
   ]
  },
  {
   "cell_type": "code",
   "execution_count": null,
   "metadata": {},
   "outputs": [],
   "source": [
    "np.random.seed(0)\n",
    "\n",
    "# Define cosmological parameters\n",
    "# cosmo_clmm = Cosmology(H0 = 70.0, Omega_dm0 = 0.27 - 0.045, Omega_b0 = 0.045, Omega_k0 = 0.0)\n",
    "\n",
    "cluster_m     = 10**(14.301) # Cluster mass\n",
    "cluster_z     = 0.4          # Cluster redshift\n",
    "concentration = 4            # Concentrion parameter NFW profile\n",
    "ngals         = 10000        # Number of galaxies\n",
    "Delta         = 200          # Overdensity parameter definition NFW profile\n",
    "sigma_g       = 5e-2         # True ellipticity standard variation\n",
    "sigma_z       = 5e-2         # True redshift standard variation\n",
    "ndata         = 1000         # Number of data points on KDE\n",
    "prec          = 14           # -log10 of the integral precision\n",
    "\n",
    "is_kde        = False        # Use KDE or not"
   ]
  },
  {
   "cell_type": "code",
   "execution_count": null,
   "metadata": {},
   "outputs": [],
   "source": [
    "cosmo = Nc.HICosmoLCDM.new()\n",
    "dp    = Nc.HaloDensityProfileNFW.new(Nc.HaloDensityProfileMassDef.CRITICAL, 200)\n",
    "dist  = Nc.Distance.new(10)\n",
    "\n",
    "dist.prepare(cosmo)\n",
    "\n",
    "smd = Nc.WLSurfaceMassDensity.new(dist)\n",
    "rng = Ncm.RNG.seeded_new(\"mt19937\", 1)\n",
    "\n",
    "gsdp  = Nc.GalaxySDPositionLSSTSRD.new(1e-6, 100, 1e-6, 4)\n",
    "gsdzp = Nc.GalaxySDZProxyGauss()\n",
    "gsds  = Nc.GalaxySDShapeGauss()\n",
    "\n",
    "gsdzp.set_z_lim(1e-6, 100)\n",
    "gsdzp.set_sigma(sigma_z)\n",
    "gsds.set_sigma(sigma_g)\n",
    "\n",
    "gwll = Nc.GalaxyWLLikelihood(s_dist=gsds, zp_dist=gsdzp, rz_dist=gsdp)\n",
    "\n",
    "gwll.gen_obs(cosmo, dp, smd, cluster_z, ngals, rng)\n",
    "\n",
    "gwll.set_ndata (ndata)\n",
    "gwll.set_cut (3.0, 5.0)\n",
    "gwll.set_prec (10**(-prec))"
   ]
  },
  {
   "cell_type": "code",
   "execution_count": null,
   "metadata": {},
   "outputs": [],
   "source": [
    "ga = Ncm.ObjArray.new ()\n",
    "ga.add (gwll)\n",
    "\n",
    "dcwll = Nc.DataClusterWLL (galaxy_array=ga, z_cluster=cluster_z)\n",
    "dcwll.set_init (True)\n",
    "dcwll.set_kde (is_kde)\n",
    "\n",
    "mset = Ncm.MSet.empty_new()\n",
    "mset.set(cosmo)\n",
    "mset.set(dp)\n",
    "mset.set(smd)\n",
    "\n",
    "MDelta_pi = mset.param_get_by_full_name (\"NcHaloDensityProfile:log10MDelta\")\n",
    "cDelta_pi = mset.param_get_by_full_name (\"NcHaloDensityProfile:cDelta\")\n",
    "\n",
    "mset.param_set_ftype (MDelta_pi.mid, MDelta_pi.pid, Ncm.ParamType.FREE)\n",
    "mset.param_set_ftype (cDelta_pi.mid, cDelta_pi.pid, Ncm.ParamType.FREE)\n",
    "mset.prepare_fparam_map ()\n",
    "\n",
    "dset = Ncm.Dataset.new ()\n",
    "dset.append_data (dcwll)\n",
    "lh = Ncm.Likelihood.new (dset)\n",
    "fit = Ncm.Fit.factory (Ncm.FitType.NLOPT, \"ln-neldermead\", lh, mset, Ncm.FitGradType.NUMDIFF_FORWARD)"
   ]
  },
  {
   "cell_type": "code",
   "execution_count": null,
   "metadata": {},
   "outputs": [],
   "source": [
    "fit.run (Ncm.FitRunMsgs.FULL)\n",
    "fit.obs_fisher ()\n",
    "fit.log_info ()\n",
    "fit.log_covar ()"
   ]
  },
  {
   "cell_type": "code",
   "execution_count": null,
   "metadata": {},
   "outputs": [],
   "source": [
    "Ncm.func_eval_set_max_threads (12)\n",
    "Ncm.func_eval_log_pool_stats ()\n",
    "\n",
    "init_sampler = Ncm.MSetTransKernGauss.new (0)\n",
    "init_sampler.set_mset (mset)\n",
    "init_sampler.set_prior_from_mset ()\n",
    "init_sampler.set_cov_from_rescale (1.0e-1)\n",
    "\n",
    "nwalkers = 200\n",
    "stretch = Ncm.FitESMCMCWalkerAPES.new (nwalkers, mset.fparams_len ())\n",
    "esmcmc  = Ncm.FitESMCMC.new (fit, nwalkers, init_sampler, stretch, Ncm.FitRunMsgs.SIMPLE)\n",
    "esmcmc.set_auto_trim_div (100)\n",
    "esmcmc.set_max_runs_time (2.0 * 60.0)\n",
    "\n",
    "if is_kde:\n",
    "    esmcmc.set_data_file (f\"Fits/wl_rebuild_kde_{ndata}_{nwalkers}.fits\")\n",
    "else:\n",
    "    esmcmc.set_data_file (f\"Fits/wl_rebuild_integral_{prec}_{nwalkers}.fits\")\n",
    "\n",
    "esmcmc.set_nthreads(12)\n",
    "esmcmc.start_run ()\n",
    "esmcmc.run (100000/nwalkers)\n",
    "esmcmc.end_run ()\n",
    "\n",
    "mcat = esmcmc.peek_catalog ()\n"
   ]
  },
  {
   "cell_type": "code",
   "execution_count": null,
   "metadata": {},
   "outputs": [],
   "source": [
    "rows = np.array([mcat.peek_row(i).dup_array() for i in range(nwalkers * 400, mcat.len())])\n",
    "params = [\"$\" + mcat.col_symb(i) + \"$\" for i in range (mcat.ncols())]\n",
    "\n",
    "partial = ChainConsumer ()\n",
    "partial.add_chain(rows[:,1:], parameters=params[1:], name=f\"$\\sigma_{{\\epsilon^s}} = {sigma_g}$\")\n",
    "partial.configure(spacing=0.0, usetex=True, colors='#D62728', shade=True, shade_alpha=0.2, bar_shade=True, smooth=True, kde=True, legend_color_text=False, linewidths=2)\n",
    "\n",
    "CC_fig = partial.plotter.plot(figsize=(8, 8), truth=[4, 14.301])\n",
    "\n",
    "fig = plt.figure(num=CC_fig, figsize=(8,8), dpi=300, facecolor=\"white\")"
   ]
  },
  {
   "cell_type": "code",
   "execution_count": null,
   "metadata": {},
   "outputs": [],
   "source": []
  }
 ],
 "metadata": {
  "kernelspec": {
   "display_name": "Python 3 (ipykernel)",
   "language": "python",
   "name": "python3"
  },
  "language_info": {
   "codemirror_mode": {
    "name": "ipython",
    "version": 3
   },
   "file_extension": ".py",
   "mimetype": "text/x-python",
   "name": "python",
   "nbconvert_exporter": "python",
   "pygments_lexer": "ipython3",
   "version": "3.10.12"
  },
  "orig_nbformat": 4,
  "vscode": {
   "interpreter": {
    "hash": "e7370f93d1d0cde622a1f8e1c04877d8463912d04d973331ad4851f04de6915a"
   }
  }
 },
 "nbformat": 4,
 "nbformat_minor": 2
}
